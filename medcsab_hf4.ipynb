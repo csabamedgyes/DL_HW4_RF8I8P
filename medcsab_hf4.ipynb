{
  "nbformat": 4,
  "nbformat_minor": 0,
  "metadata": {
    "colab": {
      "provenance": [],
      "authorship_tag": "ABX9TyMTmzsxEjHsE+0xPy6cwjSF",
      "include_colab_link": true
    },
    "kernelspec": {
      "name": "python3",
      "display_name": "Python 3"
    },
    "language_info": {
      "name": "python"
    }
  },
  "cells": [
    {
      "cell_type": "markdown",
      "metadata": {
        "id": "view-in-github",
        "colab_type": "text"
      },
      "source": [
        "<a href=\"https://colab.research.google.com/github/csabamedgyes/DL_HW4_RF8I8P/blob/main/medcsab_hf4.ipynb\" target=\"_parent\"><img src=\"https://colab.research.google.com/assets/colab-badge.svg\" alt=\"Open In Colab\"/></a>"
      ]
    },
    {
      "cell_type": "code",
      "execution_count": 27,
      "metadata": {
        "colab": {
          "base_uri": "https://localhost:8080/"
        },
        "id": "TkG52kQWaLbc",
        "outputId": "37f4183d-6ca1-4919-c1d7-d130c7599f03"
      },
      "outputs": [
        {
          "output_type": "stream",
          "name": "stdout",
          "text": [
            "Looking in indexes: https://pypi.org/simple, https://us-python.pkg.dev/colab-wheels/public/simple/\n",
            "Requirement already satisfied: fiftyone in /usr/local/lib/python3.7/dist-packages (0.18.0)\n",
            "Requirement already satisfied: plotly>=4.14 in /usr/local/lib/python3.7/dist-packages (from fiftyone) (5.5.0)\n",
            "Requirement already satisfied: PyYAML in /usr/local/lib/python3.7/dist-packages (from fiftyone) (6.0)\n",
            "Requirement already satisfied: future in /usr/local/lib/python3.7/dist-packages (from fiftyone) (0.16.0)\n",
            "Requirement already satisfied: dacite>=1.6.0 in /usr/local/lib/python3.7/dist-packages (from fiftyone) (1.6.0)\n",
            "Requirement already satisfied: mongoengine==0.24.2 in /usr/local/lib/python3.7/dist-packages (from fiftyone) (0.24.2)\n",
            "Requirement already satisfied: numpy in /usr/local/lib/python3.7/dist-packages (from fiftyone) (1.21.6)\n",
            "Requirement already satisfied: tabulate in /usr/local/lib/python3.7/dist-packages (from fiftyone) (0.8.10)\n",
            "Requirement already satisfied: pandas in /usr/local/lib/python3.7/dist-packages (from fiftyone) (1.3.5)\n",
            "Requirement already satisfied: aiofiles in /usr/local/lib/python3.7/dist-packages (from fiftyone) (22.1.0)\n",
            "Requirement already satisfied: kaleido in /usr/local/lib/python3.7/dist-packages (from fiftyone) (0.2.1)\n",
            "Requirement already satisfied: retrying in /usr/local/lib/python3.7/dist-packages (from fiftyone) (1.3.4)\n",
            "Requirement already satisfied: opencv-python-headless in /usr/local/lib/python3.7/dist-packages (from fiftyone) (4.6.0.66)\n",
            "Requirement already satisfied: scikit-learn in /usr/local/lib/python3.7/dist-packages (from fiftyone) (1.0.2)\n",
            "Requirement already satisfied: starlette==0.20.4 in /usr/local/lib/python3.7/dist-packages (from fiftyone) (0.20.4)\n",
            "Requirement already satisfied: pytz in /usr/local/lib/python3.7/dist-packages (from fiftyone) (2022.6)\n",
            "Requirement already satisfied: sseclient-py<2,>=1.7.2 in /usr/local/lib/python3.7/dist-packages (from fiftyone) (1.7.2)\n",
            "Requirement already satisfied: pprintpp in /usr/local/lib/python3.7/dist-packages (from fiftyone) (0.4.0)\n",
            "Requirement already satisfied: hypercorn>=0.13.2 in /usr/local/lib/python3.7/dist-packages (from fiftyone) (0.14.3)\n",
            "Requirement already satisfied: ndjson in /usr/local/lib/python3.7/dist-packages (from fiftyone) (0.3.1)\n",
            "Requirement already satisfied: Jinja2>=3 in /usr/local/lib/python3.7/dist-packages (from fiftyone) (3.1.2)\n",
            "Requirement already satisfied: eventlet in /usr/local/lib/python3.7/dist-packages (from fiftyone) (0.33.2)\n",
            "Requirement already satisfied: psutil in /usr/local/lib/python3.7/dist-packages (from fiftyone) (5.4.8)\n",
            "Requirement already satisfied: fiftyone-db<0.5,>=0.4 in /usr/local/lib/python3.7/dist-packages (from fiftyone) (0.4.0)\n",
            "Requirement already satisfied: fiftyone-brain<0.10,>=0.9.2 in /usr/local/lib/python3.7/dist-packages (from fiftyone) (0.9.2)\n",
            "Requirement already satisfied: boto3 in /usr/local/lib/python3.7/dist-packages (from fiftyone) (1.26.16)\n",
            "Requirement already satisfied: strawberry-graphql==0.138.1 in /usr/local/lib/python3.7/dist-packages (from fiftyone) (0.138.1)\n",
            "Requirement already satisfied: Pillow>=6.2 in /usr/local/lib/python3.7/dist-packages (from fiftyone) (7.1.2)\n",
            "Requirement already satisfied: pymongo>=3.11 in /usr/local/lib/python3.7/dist-packages (from fiftyone) (4.3.3)\n",
            "Requirement already satisfied: voxel51-eta<0.9,>=0.8.1 in /usr/local/lib/python3.7/dist-packages (from fiftyone) (0.8.1)\n",
            "Requirement already satisfied: setuptools in /usr/local/lib/python3.7/dist-packages (from fiftyone) (57.4.0)\n",
            "Requirement already satisfied: sse-starlette<1,>=0.10.3 in /usr/local/lib/python3.7/dist-packages (from fiftyone) (0.10.3)\n",
            "Requirement already satisfied: matplotlib in /usr/local/lib/python3.7/dist-packages (from fiftyone) (3.2.2)\n",
            "Requirement already satisfied: scikit-image in /usr/local/lib/python3.7/dist-packages (from fiftyone) (0.18.3)\n",
            "Requirement already satisfied: motor>=2.3 in /usr/local/lib/python3.7/dist-packages (from fiftyone) (3.1.1)\n",
            "Requirement already satisfied: packaging in /usr/local/lib/python3.7/dist-packages (from fiftyone) (21.3)\n",
            "Requirement already satisfied: xmltodict in /usr/local/lib/python3.7/dist-packages (from fiftyone) (0.13.0)\n",
            "Requirement already satisfied: Deprecated in /usr/local/lib/python3.7/dist-packages (from fiftyone) (1.2.13)\n",
            "Requirement already satisfied: argcomplete in /usr/local/lib/python3.7/dist-packages (from fiftyone) (2.0.0)\n",
            "Requirement already satisfied: universal-analytics-python3<2,>=1.0.1 in /usr/local/lib/python3.7/dist-packages (from fiftyone) (1.1.1)\n",
            "Requirement already satisfied: typing-extensions>=3.10.0 in /usr/local/lib/python3.7/dist-packages (from starlette==0.20.4->fiftyone) (4.4.0)\n",
            "Requirement already satisfied: anyio<5,>=3.4.0 in /usr/local/lib/python3.7/dist-packages (from starlette==0.20.4->fiftyone) (3.6.2)\n",
            "Requirement already satisfied: python-dateutil<3.0.0,>=2.7.0 in /usr/local/lib/python3.7/dist-packages (from strawberry-graphql==0.138.1->fiftyone) (2.8.2)\n",
            "Requirement already satisfied: backports.cached-property<2.0.0,>=1.0.2 in /usr/local/lib/python3.7/dist-packages (from strawberry-graphql==0.138.1->fiftyone) (1.0.2)\n",
            "Requirement already satisfied: graphql-core<3.3.0,>=3.2.0 in /usr/local/lib/python3.7/dist-packages (from strawberry-graphql==0.138.1->fiftyone) (3.2.3)\n",
            "Requirement already satisfied: idna>=2.8 in /usr/local/lib/python3.7/dist-packages (from anyio<5,>=3.4.0->starlette==0.20.4->fiftyone) (2.10)\n",
            "Requirement already satisfied: sniffio>=1.1 in /usr/local/lib/python3.7/dist-packages (from anyio<5,>=3.4.0->starlette==0.20.4->fiftyone) (1.3.0)\n",
            "Requirement already satisfied: scipy>=1.2.0 in /usr/local/lib/python3.7/dist-packages (from fiftyone-brain<0.10,>=0.9.2->fiftyone) (1.7.3)\n",
            "Requirement already satisfied: priority in /usr/local/lib/python3.7/dist-packages (from hypercorn>=0.13.2->fiftyone) (2.0.0)\n",
            "Requirement already satisfied: toml in /usr/local/lib/python3.7/dist-packages (from hypercorn>=0.13.2->fiftyone) (0.10.2)\n",
            "Requirement already satisfied: h2>=3.1.0 in /usr/local/lib/python3.7/dist-packages (from hypercorn>=0.13.2->fiftyone) (4.1.0)\n",
            "Requirement already satisfied: wsproto>=0.14.0 in /usr/local/lib/python3.7/dist-packages (from hypercorn>=0.13.2->fiftyone) (1.2.0)\n",
            "Requirement already satisfied: h11 in /usr/local/lib/python3.7/dist-packages (from hypercorn>=0.13.2->fiftyone) (0.14.0)\n",
            "Requirement already satisfied: hpack<5,>=4.0 in /usr/local/lib/python3.7/dist-packages (from h2>=3.1.0->hypercorn>=0.13.2->fiftyone) (4.0.0)\n",
            "Requirement already satisfied: hyperframe<7,>=6.0 in /usr/local/lib/python3.7/dist-packages (from h2>=3.1.0->hypercorn>=0.13.2->fiftyone) (6.0.1)\n",
            "Requirement already satisfied: MarkupSafe>=2.0 in /usr/local/lib/python3.7/dist-packages (from Jinja2>=3->fiftyone) (2.0.1)\n",
            "Requirement already satisfied: tenacity>=6.2.0 in /usr/local/lib/python3.7/dist-packages (from plotly>=4.14->fiftyone) (8.1.0)\n",
            "Requirement already satisfied: six in /usr/local/lib/python3.7/dist-packages (from plotly>=4.14->fiftyone) (1.15.0)\n",
            "Requirement already satisfied: dnspython<3.0.0,>=1.16.0 in /usr/local/lib/python3.7/dist-packages (from pymongo>=3.11->fiftyone) (2.2.1)\n",
            "Requirement already satisfied: httpx>=0.10.0 in /usr/local/lib/python3.7/dist-packages (from universal-analytics-python3<2,>=1.0.1->fiftyone) (0.23.1)\n",
            "Requirement already satisfied: rfc3986[idna2008]<2,>=1.3 in /usr/local/lib/python3.7/dist-packages (from httpx>=0.10.0->universal-analytics-python3<2,>=1.0.1->fiftyone) (1.5.0)\n",
            "Requirement already satisfied: httpcore<0.17.0,>=0.15.0 in /usr/local/lib/python3.7/dist-packages (from httpx>=0.10.0->universal-analytics-python3<2,>=1.0.1->fiftyone) (0.16.2)\n",
            "Requirement already satisfied: certifi in /usr/local/lib/python3.7/dist-packages (from httpx>=0.10.0->universal-analytics-python3<2,>=1.0.1->fiftyone) (2022.9.24)\n",
            "Requirement already satisfied: patool in /usr/local/lib/python3.7/dist-packages (from voxel51-eta<0.9,>=0.8.1->fiftyone) (1.12)\n",
            "Requirement already satisfied: importlib-metadata in /usr/local/lib/python3.7/dist-packages (from voxel51-eta<0.9,>=0.8.1->fiftyone) (4.13.0)\n",
            "Requirement already satisfied: sortedcontainers in /usr/local/lib/python3.7/dist-packages (from voxel51-eta<0.9,>=0.8.1->fiftyone) (2.4.0)\n",
            "Requirement already satisfied: tzlocal in /usr/local/lib/python3.7/dist-packages (from voxel51-eta<0.9,>=0.8.1->fiftyone) (1.5.1)\n",
            "Requirement already satisfied: dill in /usr/local/lib/python3.7/dist-packages (from voxel51-eta<0.9,>=0.8.1->fiftyone) (0.3.6)\n",
            "Requirement already satisfied: urllib3 in /usr/local/lib/python3.7/dist-packages (from voxel51-eta<0.9,>=0.8.1->fiftyone) (1.25.11)\n",
            "Requirement already satisfied: requests in /usr/local/lib/python3.7/dist-packages (from voxel51-eta<0.9,>=0.8.1->fiftyone) (2.23.0)\n",
            "Requirement already satisfied: glob2 in /usr/local/lib/python3.7/dist-packages (from voxel51-eta<0.9,>=0.8.1->fiftyone) (0.7)\n",
            "Requirement already satisfied: zipp>=0.5 in /usr/local/lib/python3.7/dist-packages (from importlib-metadata->voxel51-eta<0.9,>=0.8.1->fiftyone) (3.10.0)\n",
            "Requirement already satisfied: jmespath<2.0.0,>=0.7.1 in /usr/local/lib/python3.7/dist-packages (from boto3->fiftyone) (1.0.1)\n",
            "Requirement already satisfied: s3transfer<0.7.0,>=0.6.0 in /usr/local/lib/python3.7/dist-packages (from boto3->fiftyone) (0.6.0)\n",
            "Requirement already satisfied: botocore<1.30.0,>=1.29.16 in /usr/local/lib/python3.7/dist-packages (from boto3->fiftyone) (1.29.16)\n",
            "Requirement already satisfied: wrapt<2,>=1.10 in /usr/local/lib/python3.7/dist-packages (from Deprecated->fiftyone) (1.14.1)\n",
            "Requirement already satisfied: greenlet>=0.3 in /usr/local/lib/python3.7/dist-packages (from eventlet->fiftyone) (2.0.1)\n",
            "Requirement already satisfied: kiwisolver>=1.0.1 in /usr/local/lib/python3.7/dist-packages (from matplotlib->fiftyone) (1.4.4)\n",
            "Requirement already satisfied: pyparsing!=2.0.4,!=2.1.2,!=2.1.6,>=2.0.1 in /usr/local/lib/python3.7/dist-packages (from matplotlib->fiftyone) (3.0.9)\n",
            "Requirement already satisfied: cycler>=0.10 in /usr/local/lib/python3.7/dist-packages (from matplotlib->fiftyone) (0.11.0)\n",
            "Requirement already satisfied: chardet<4,>=3.0.2 in /usr/local/lib/python3.7/dist-packages (from requests->voxel51-eta<0.9,>=0.8.1->fiftyone) (3.0.4)\n",
            "Requirement already satisfied: imageio>=2.3.0 in /usr/local/lib/python3.7/dist-packages (from scikit-image->fiftyone) (2.9.0)\n",
            "Requirement already satisfied: tifffile>=2019.7.26 in /usr/local/lib/python3.7/dist-packages (from scikit-image->fiftyone) (2021.11.2)\n",
            "Requirement already satisfied: PyWavelets>=1.1.1 in /usr/local/lib/python3.7/dist-packages (from scikit-image->fiftyone) (1.3.0)\n",
            "Requirement already satisfied: networkx>=2.0 in /usr/local/lib/python3.7/dist-packages (from scikit-image->fiftyone) (2.6.3)\n",
            "Requirement already satisfied: joblib>=0.11 in /usr/local/lib/python3.7/dist-packages (from scikit-learn->fiftyone) (1.2.0)\n",
            "Requirement already satisfied: threadpoolctl>=2.0.0 in /usr/local/lib/python3.7/dist-packages (from scikit-learn->fiftyone) (3.1.0)\n"
          ]
        }
      ],
      "source": [
        "# installing fiftyone\n",
        "!pip install fiftyone"
      ]
    },
    {
      "cell_type": "code",
      "source": [
        "# importing packages we need\n",
        "import fiftyone as fo\n",
        "import fiftyone.zoo as foz\n",
        "import os"
      ],
      "metadata": {
        "id": "2AUyGSDgaQAO"
      },
      "execution_count": 28,
      "outputs": []
    },
    {
      "cell_type": "code",
      "source": [
        "#dog dataset (1st category)\n",
        "dogs = foz.load_zoo_dataset(\"open-images-v6\",split=\"validation\",classes = [\"Dog\"],max_samples=400,dataset_name=\"dog\",)\n",
        "\n",
        "#car dataset (2nd category)\n",
        "cars = foz.load_zoo_dataset(\"open-images-v6\",split=\"validation\",classes = [\"Car\"],max_samples=400,dataset_name=\"car\",)\n",
        "\n",
        "#boy dataset (3rd category)\n",
        "boys = foz.load_zoo_dataset(\"open-images-v6\",split=\"validation\",classes = [\"Boy\"],max_samples=400,dataset_name=\"boy\",)"
      ],
      "metadata": {
        "colab": {
          "base_uri": "https://localhost:8080/"
        },
        "id": "DFEw3xwiaYPy",
        "outputId": "2d1a21fa-ab7a-4501-bbeb-79c9adb16c25"
      },
      "execution_count": 29,
      "outputs": [
        {
          "output_type": "stream",
          "name": "stdout",
          "text": [
            "Downloading split 'validation' to '/root/fiftyone/open-images-v6/validation' if necessary\n"
          ]
        },
        {
          "output_type": "stream",
          "name": "stderr",
          "text": [
            "INFO:fiftyone.zoo.datasets:Downloading split 'validation' to '/root/fiftyone/open-images-v6/validation' if necessary\n"
          ]
        },
        {
          "output_type": "stream",
          "name": "stdout",
          "text": [
            "Necessary images already downloaded\n"
          ]
        },
        {
          "output_type": "stream",
          "name": "stderr",
          "text": [
            "INFO:fiftyone.utils.openimages:Necessary images already downloaded\n"
          ]
        },
        {
          "output_type": "stream",
          "name": "stdout",
          "text": [
            "Existing download of split 'validation' is sufficient\n"
          ]
        },
        {
          "output_type": "stream",
          "name": "stderr",
          "text": [
            "INFO:fiftyone.zoo.datasets:Existing download of split 'validation' is sufficient\n"
          ]
        },
        {
          "output_type": "stream",
          "name": "stdout",
          "text": [
            "Loading existing dataset 'dog'. To reload from disk, either delete the existing dataset or provide a custom `dataset_name` to use\n"
          ]
        },
        {
          "output_type": "stream",
          "name": "stderr",
          "text": [
            "INFO:fiftyone.zoo.datasets:Loading existing dataset 'dog'. To reload from disk, either delete the existing dataset or provide a custom `dataset_name` to use\n"
          ]
        },
        {
          "output_type": "stream",
          "name": "stdout",
          "text": [
            "Downloading split 'validation' to '/root/fiftyone/open-images-v6/validation' if necessary\n"
          ]
        },
        {
          "output_type": "stream",
          "name": "stderr",
          "text": [
            "INFO:fiftyone.zoo.datasets:Downloading split 'validation' to '/root/fiftyone/open-images-v6/validation' if necessary\n"
          ]
        },
        {
          "output_type": "stream",
          "name": "stdout",
          "text": [
            "Necessary images already downloaded\n"
          ]
        },
        {
          "output_type": "stream",
          "name": "stderr",
          "text": [
            "INFO:fiftyone.utils.openimages:Necessary images already downloaded\n"
          ]
        },
        {
          "output_type": "stream",
          "name": "stdout",
          "text": [
            "Existing download of split 'validation' is sufficient\n"
          ]
        },
        {
          "output_type": "stream",
          "name": "stderr",
          "text": [
            "INFO:fiftyone.zoo.datasets:Existing download of split 'validation' is sufficient\n"
          ]
        },
        {
          "output_type": "stream",
          "name": "stdout",
          "text": [
            "Loading existing dataset 'car'. To reload from disk, either delete the existing dataset or provide a custom `dataset_name` to use\n"
          ]
        },
        {
          "output_type": "stream",
          "name": "stderr",
          "text": [
            "INFO:fiftyone.zoo.datasets:Loading existing dataset 'car'. To reload from disk, either delete the existing dataset or provide a custom `dataset_name` to use\n"
          ]
        },
        {
          "output_type": "stream",
          "name": "stdout",
          "text": [
            "Downloading split 'validation' to '/root/fiftyone/open-images-v6/validation' if necessary\n"
          ]
        },
        {
          "output_type": "stream",
          "name": "stderr",
          "text": [
            "INFO:fiftyone.zoo.datasets:Downloading split 'validation' to '/root/fiftyone/open-images-v6/validation' if necessary\n"
          ]
        },
        {
          "output_type": "stream",
          "name": "stdout",
          "text": [
            "Necessary images already downloaded\n"
          ]
        },
        {
          "output_type": "stream",
          "name": "stderr",
          "text": [
            "INFO:fiftyone.utils.openimages:Necessary images already downloaded\n"
          ]
        },
        {
          "output_type": "stream",
          "name": "stdout",
          "text": [
            "Existing download of split 'validation' is sufficient\n"
          ]
        },
        {
          "output_type": "stream",
          "name": "stderr",
          "text": [
            "INFO:fiftyone.zoo.datasets:Existing download of split 'validation' is sufficient\n"
          ]
        },
        {
          "output_type": "stream",
          "name": "stdout",
          "text": [
            "Loading existing dataset 'boy'. To reload from disk, either delete the existing dataset or provide a custom `dataset_name` to use\n"
          ]
        },
        {
          "output_type": "stream",
          "name": "stderr",
          "text": [
            "INFO:fiftyone.zoo.datasets:Loading existing dataset 'boy'. To reload from disk, either delete the existing dataset or provide a custom `dataset_name` to use\n"
          ]
        }
      ]
    },
    {
      "cell_type": "code",
      "source": [
        "#we should export the datasets to local folders\n",
        "\n",
        "dogs.export(\n",
        "   export_dir=\"/home/csaba/Pictures/datasets/train/dogs\",\n",
        "   dataset_type = fo.types.ImageDirectory,\n",
        ")\n",
        "\n",
        "cars.export(\n",
        "   export_dir=\"/home/csaba/Pictures/datasets/train/cars\",\n",
        "   dataset_type = fo.types.ImageDirectory,\n",
        ")\n",
        "\n",
        "boys.export(\n",
        "   export_dir=\"/home/csaba/Pictures/datasets/train/boys\",\n",
        "   dataset_type = fo.types.ImageDirectory,\n",
        ")\n",
        "\n",
        "boys=os.listdir('/home/csaba/Pictures/datasets/train/boys')\n",
        "cars=os.listdir('/home/csaba/Pictures/datasets/train/cars')\n",
        "dogs=os.listdir('/home/csaba/Pictures/datasets/train/dogs')"
      ],
      "metadata": {
        "colab": {
          "base_uri": "https://localhost:8080/"
        },
        "id": "5GyP6L4fbBYB",
        "outputId": "8491ef60-e94d-4126-a8c7-03ffba734e8a"
      },
      "execution_count": 30,
      "outputs": [
        {
          "output_type": "stream",
          "name": "stdout",
          "text": [
            "Directory '/home/csaba/Pictures/datasets/train/dogs' already exists; export will be merged with existing files\n"
          ]
        },
        {
          "output_type": "stream",
          "name": "stderr",
          "text": [
            "WARNING:fiftyone.core.collections:Directory '/home/csaba/Pictures/datasets/train/dogs' already exists; export will be merged with existing files\n"
          ]
        },
        {
          "output_type": "stream",
          "name": "stdout",
          "text": [
            " 100% |█████████████████| 400/400 [5.0s elapsed, 0s remaining, 89.0 samples/s]      \n"
          ]
        },
        {
          "output_type": "stream",
          "name": "stderr",
          "text": [
            "INFO:eta.core.utils: 100% |█████████████████| 400/400 [5.0s elapsed, 0s remaining, 89.0 samples/s]      \n"
          ]
        },
        {
          "output_type": "stream",
          "name": "stdout",
          "text": [
            "Directory '/home/csaba/Pictures/datasets/train/cars' already exists; export will be merged with existing files\n"
          ]
        },
        {
          "output_type": "stream",
          "name": "stderr",
          "text": [
            "WARNING:fiftyone.core.collections:Directory '/home/csaba/Pictures/datasets/train/cars' already exists; export will be merged with existing files\n"
          ]
        },
        {
          "output_type": "stream",
          "name": "stdout",
          "text": [
            " 100% |█████████████████| 400/400 [6.3s elapsed, 0s remaining, 102.9 samples/s]      \n"
          ]
        },
        {
          "output_type": "stream",
          "name": "stderr",
          "text": [
            "INFO:eta.core.utils: 100% |█████████████████| 400/400 [6.3s elapsed, 0s remaining, 102.9 samples/s]      \n"
          ]
        },
        {
          "output_type": "stream",
          "name": "stdout",
          "text": [
            "Directory '/home/csaba/Pictures/datasets/train/boys' already exists; export will be merged with existing files\n"
          ]
        },
        {
          "output_type": "stream",
          "name": "stderr",
          "text": [
            "WARNING:fiftyone.core.collections:Directory '/home/csaba/Pictures/datasets/train/boys' already exists; export will be merged with existing files\n"
          ]
        },
        {
          "output_type": "stream",
          "name": "stdout",
          "text": [
            " 100% |█████████████████| 400/400 [12.2s elapsed, 0s remaining, 41.1 samples/s]      \n"
          ]
        },
        {
          "output_type": "stream",
          "name": "stderr",
          "text": [
            "INFO:eta.core.utils: 100% |█████████████████| 400/400 [12.2s elapsed, 0s remaining, 41.1 samples/s]      \n"
          ]
        }
      ]
    },
    {
      "cell_type": "code",
      "source": [
        "# we want our data in a train-validation-test form, so we have to move data\n",
        "# of images in datasets 200-100-100\n",
        "import shutil\n",
        "\n",
        "source_folder = \"/home/csaba/Pictures/datasets/train/\"\n",
        "destination_folder = \"/home/csaba/Pictures/datasets/validation/\"\n",
        "destination_folder_2 = \"/home/csaba/Pictures/datasets/test/\"\n",
        "\n",
        "if not os.path.isdir(\"/home/csaba/Pictures/datasets/validation\"):\n",
        "  os.mkdir(\"/home/csaba/Pictures/datasets/validation\")\n",
        "if not os.path.isdir(\"/home/csaba/Pictures/datasets/test\"):\n",
        "  os.mkdir(\"/home/csaba/Pictures/datasets/test\")\n",
        "\n",
        "# moving the data into our directories\n",
        "for directory_name in ['boys','cars','dogs']:\n",
        "  if not os.path.isdir(destination_folder + directory_name):\n",
        "        os.mkdir(destination_folder + directory_name)\n",
        "  if not os.path.isdir(destination_folder_2 + directory_name):\n",
        "        os.mkdir(destination_folder_2 + directory_name)\n",
        "  # 100 samples into validation,\n",
        "  # 100 samples into test \n",
        "  # 200 samples stay in the train folder\n",
        "  for i, file_name in enumerate(os.listdir(source_folder+directory_name)):\n",
        "    if i<100:\n",
        "      source = source_folder + directory_name + '/' + file_name\n",
        "      destination = destination_folder + directory_name + '/' + file_name\n",
        "      shutil.move(source, destination)\n",
        "    elif i<200:\n",
        "      source = source_folder + directory_name + '/' + file_name\n",
        "      destination = destination_folder_2 + directory_name + '/' + file_name\n",
        "      shutil.move(source, destination)"
      ],
      "metadata": {
        "id": "OyLXTPXvcQmN"
      },
      "execution_count": 31,
      "outputs": []
    },
    {
      "cell_type": "code",
      "source": [
        "from tensorflow.keras.models import Model\n",
        "from tensorflow.keras.preprocessing.image import ImageDataGenerator\n",
        "from tensorflow.keras.applications.inception_v3 import InceptionV3,preprocess_input,decode_predictions\n",
        "from tensorflow.keras.preprocessing import image\n",
        "from tensorflow.keras.optimizers import SGD\n",
        "from tensorflow.keras.layers import Dense, GlobalAveragePooling2D\n",
        "from tensorflow.keras import backend as K\n",
        "import numpy as np"
      ],
      "metadata": {
        "id": "8elABhvxdWxS"
      },
      "execution_count": 32,
      "outputs": []
    },
    {
      "cell_type": "code",
      "source": [
        "img_height=299\n",
        "img_width=299"
      ],
      "metadata": {
        "id": "RvnPzJKVd3Fp"
      },
      "execution_count": 33,
      "outputs": []
    },
    {
      "cell_type": "code",
      "source": [
        "# importing pretrained model, without the fully-connected layers\n",
        "base_model = InceptionV3(weights='imagenet', include_top=False)\n",
        "# we put a global average pooling layer after the last concolutional layer\n",
        "x = base_model.output\n",
        "x = GlobalAveragePooling2D()(x)\n",
        "# adding a feedforward layer with activation ReLu\n",
        "x = Dense(1024, activation='relu')(x)\n",
        "# and finally adding a last layer, there will be 3 outputs\n",
        "# - categorical_crossentropy needs this\n",
        "predictions = Dense(3, activation='softmax')(x)\n",
        "# creating model\n",
        "model = Model(inputs=base_model.input, outputs=predictions)"
      ],
      "metadata": {
        "id": "705Pe0fvd5YI"
      },
      "execution_count": 34,
      "outputs": []
    },
    {
      "cell_type": "code",
      "source": [
        "for layer in base_model.layers:\n",
        "    layer.trainable = False\n",
        "\n",
        "# we do not train the base model, but only the last added layers\n",
        "# we have 3 categories, so we should use loss categorical_crossentropy\n",
        "model.compile(optimizer='adam', metrics=['accuracy'],loss='categorical_crossentropy')"
      ],
      "metadata": {
        "id": "_BMnnTmId7Tx"
      },
      "execution_count": 35,
      "outputs": []
    },
    {
      "cell_type": "code",
      "source": [
        "train_dir = \"/home/csaba/Pictures/datasets/train/\"\n",
        "validation_dir = \"/home/csaba/Pictures/datasets/validation/\""
      ],
      "metadata": {
        "id": "dfmUZu0yd_F9"
      },
      "execution_count": 36,
      "outputs": []
    },
    {
      "cell_type": "code",
      "source": [
        "# preparing images for loading in and data augmentation\n",
        "train_datagen = ImageDataGenerator(rescale=1./255, shear_range=0.2, zoom_range=0.2, horizontal_flip=True)\n",
        "test_datagen = ImageDataGenerator(rescale=1./255)\n",
        "train_generator = train_datagen.flow_from_directory(train_dir, target_size=(img_height, img_width), batch_size=20, class_mode='categorical')\n",
        "validation_generator = test_datagen.flow_from_directory(validation_dir, target_size=(img_height, img_width), batch_size=20, class_mode='categorical')"
      ],
      "metadata": {
        "colab": {
          "base_uri": "https://localhost:8080/"
        },
        "id": "tSIuIaRDeLMK",
        "outputId": "ef30f1d0-4b1e-4c71-d520-6b7c47d0c356"
      },
      "execution_count": 37,
      "outputs": [
        {
          "output_type": "stream",
          "name": "stdout",
          "text": [
            "Found 600 images belonging to 3 classes.\n",
            "Found 300 images belonging to 3 classes.\n"
          ]
        }
      ]
    },
    {
      "cell_type": "code",
      "source": [
        "# this function does data augmentation and trains the network\n",
        "model.fit_generator(train_generator,steps_per_epoch=200,validation_data=validation_generator,validation_steps=10,epochs=3)"
      ],
      "metadata": {
        "colab": {
          "base_uri": "https://localhost:8080/"
        },
        "id": "4Vu-gT8qePAS",
        "outputId": "caa99715-5877-44b7-fef2-16a318e37d43"
      },
      "execution_count": 38,
      "outputs": [
        {
          "output_type": "stream",
          "name": "stderr",
          "text": [
            "/usr/local/lib/python3.7/dist-packages/ipykernel_launcher.py:2: UserWarning: `Model.fit_generator` is deprecated and will be removed in a future version. Please use `Model.fit`, which supports generators.\n",
            "  \n"
          ]
        },
        {
          "output_type": "stream",
          "name": "stdout",
          "text": [
            "Epoch 1/3\n",
            " 30/200 [===>..........................] - ETA: 13:53 - loss: 0.7465 - accuracy: 0.7433"
          ]
        },
        {
          "output_type": "stream",
          "name": "stderr",
          "text": [
            "WARNING:tensorflow:Your input ran out of data; interrupting training. Make sure that your dataset or generator can generate at least `steps_per_epoch * epochs` batches (in this case, 600 batches). You may need to use the repeat() function when building your dataset.\n"
          ]
        },
        {
          "output_type": "stream",
          "name": "stdout",
          "text": [
            "\b\b\b\b\b\b\b\b\b\b\b\b\b\b\b\b\b\b\b\b\b\b\b\b\b\b\b\b\b\b\b\b\b\b\b\b\b\b\b\b\b\b\b\b\b\b\b\b\b\b\b\b\b\b\b\b\b\b\b\b\b\b\b\b\b\b\b\b\b\b\b\b\b\b\b\b\b\b\b\b\b\b\b\b\b\b\b\r200/200 [==============================] - 201s 950ms/step - loss: 0.7465 - accuracy: 0.7433 - val_loss: 0.1771 - val_accuracy: 0.9650\n"
          ]
        },
        {
          "output_type": "execute_result",
          "data": {
            "text/plain": [
              "<keras.callbacks.History at 0x7fa43c5c2210>"
            ]
          },
          "metadata": {},
          "execution_count": 38
        }
      ]
    },
    {
      "cell_type": "code",
      "source": [
        "print(\"Convolutional layers of Inception V3:\")\n",
        "for i, layer in enumerate(base_model.layers):\n",
        "    print(i, layer.name)"
      ],
      "metadata": {
        "colab": {
          "base_uri": "https://localhost:8080/"
        },
        "id": "SoSXU3EceRly",
        "outputId": "6f8fe3af-ca34-4276-d2e7-69b47063b79a"
      },
      "execution_count": 39,
      "outputs": [
        {
          "output_type": "stream",
          "name": "stdout",
          "text": [
            "Convolutional layers of Inception V3:\n",
            "0 input_2\n",
            "1 conv2d_94\n",
            "2 batch_normalization_94\n",
            "3 activation_94\n",
            "4 conv2d_95\n",
            "5 batch_normalization_95\n",
            "6 activation_95\n",
            "7 conv2d_96\n",
            "8 batch_normalization_96\n",
            "9 activation_96\n",
            "10 max_pooling2d_4\n",
            "11 conv2d_97\n",
            "12 batch_normalization_97\n",
            "13 activation_97\n",
            "14 conv2d_98\n",
            "15 batch_normalization_98\n",
            "16 activation_98\n",
            "17 max_pooling2d_5\n",
            "18 conv2d_102\n",
            "19 batch_normalization_102\n",
            "20 activation_102\n",
            "21 conv2d_100\n",
            "22 conv2d_103\n",
            "23 batch_normalization_100\n",
            "24 batch_normalization_103\n",
            "25 activation_100\n",
            "26 activation_103\n",
            "27 average_pooling2d_9\n",
            "28 conv2d_99\n",
            "29 conv2d_101\n",
            "30 conv2d_104\n",
            "31 conv2d_105\n",
            "32 batch_normalization_99\n",
            "33 batch_normalization_101\n",
            "34 batch_normalization_104\n",
            "35 batch_normalization_105\n",
            "36 activation_99\n",
            "37 activation_101\n",
            "38 activation_104\n",
            "39 activation_105\n",
            "40 mixed0\n",
            "41 conv2d_109\n",
            "42 batch_normalization_109\n",
            "43 activation_109\n",
            "44 conv2d_107\n",
            "45 conv2d_110\n",
            "46 batch_normalization_107\n",
            "47 batch_normalization_110\n",
            "48 activation_107\n",
            "49 activation_110\n",
            "50 average_pooling2d_10\n",
            "51 conv2d_106\n",
            "52 conv2d_108\n",
            "53 conv2d_111\n",
            "54 conv2d_112\n",
            "55 batch_normalization_106\n",
            "56 batch_normalization_108\n",
            "57 batch_normalization_111\n",
            "58 batch_normalization_112\n",
            "59 activation_106\n",
            "60 activation_108\n",
            "61 activation_111\n",
            "62 activation_112\n",
            "63 mixed1\n",
            "64 conv2d_116\n",
            "65 batch_normalization_116\n",
            "66 activation_116\n",
            "67 conv2d_114\n",
            "68 conv2d_117\n",
            "69 batch_normalization_114\n",
            "70 batch_normalization_117\n",
            "71 activation_114\n",
            "72 activation_117\n",
            "73 average_pooling2d_11\n",
            "74 conv2d_113\n",
            "75 conv2d_115\n",
            "76 conv2d_118\n",
            "77 conv2d_119\n",
            "78 batch_normalization_113\n",
            "79 batch_normalization_115\n",
            "80 batch_normalization_118\n",
            "81 batch_normalization_119\n",
            "82 activation_113\n",
            "83 activation_115\n",
            "84 activation_118\n",
            "85 activation_119\n",
            "86 mixed2\n",
            "87 conv2d_121\n",
            "88 batch_normalization_121\n",
            "89 activation_121\n",
            "90 conv2d_122\n",
            "91 batch_normalization_122\n",
            "92 activation_122\n",
            "93 conv2d_120\n",
            "94 conv2d_123\n",
            "95 batch_normalization_120\n",
            "96 batch_normalization_123\n",
            "97 activation_120\n",
            "98 activation_123\n",
            "99 max_pooling2d_6\n",
            "100 mixed3\n",
            "101 conv2d_128\n",
            "102 batch_normalization_128\n",
            "103 activation_128\n",
            "104 conv2d_129\n",
            "105 batch_normalization_129\n",
            "106 activation_129\n",
            "107 conv2d_125\n",
            "108 conv2d_130\n",
            "109 batch_normalization_125\n",
            "110 batch_normalization_130\n",
            "111 activation_125\n",
            "112 activation_130\n",
            "113 conv2d_126\n",
            "114 conv2d_131\n",
            "115 batch_normalization_126\n",
            "116 batch_normalization_131\n",
            "117 activation_126\n",
            "118 activation_131\n",
            "119 average_pooling2d_12\n",
            "120 conv2d_124\n",
            "121 conv2d_127\n",
            "122 conv2d_132\n",
            "123 conv2d_133\n",
            "124 batch_normalization_124\n",
            "125 batch_normalization_127\n",
            "126 batch_normalization_132\n",
            "127 batch_normalization_133\n",
            "128 activation_124\n",
            "129 activation_127\n",
            "130 activation_132\n",
            "131 activation_133\n",
            "132 mixed4\n",
            "133 conv2d_138\n",
            "134 batch_normalization_138\n",
            "135 activation_138\n",
            "136 conv2d_139\n",
            "137 batch_normalization_139\n",
            "138 activation_139\n",
            "139 conv2d_135\n",
            "140 conv2d_140\n",
            "141 batch_normalization_135\n",
            "142 batch_normalization_140\n",
            "143 activation_135\n",
            "144 activation_140\n",
            "145 conv2d_136\n",
            "146 conv2d_141\n",
            "147 batch_normalization_136\n",
            "148 batch_normalization_141\n",
            "149 activation_136\n",
            "150 activation_141\n",
            "151 average_pooling2d_13\n",
            "152 conv2d_134\n",
            "153 conv2d_137\n",
            "154 conv2d_142\n",
            "155 conv2d_143\n",
            "156 batch_normalization_134\n",
            "157 batch_normalization_137\n",
            "158 batch_normalization_142\n",
            "159 batch_normalization_143\n",
            "160 activation_134\n",
            "161 activation_137\n",
            "162 activation_142\n",
            "163 activation_143\n",
            "164 mixed5\n",
            "165 conv2d_148\n",
            "166 batch_normalization_148\n",
            "167 activation_148\n",
            "168 conv2d_149\n",
            "169 batch_normalization_149\n",
            "170 activation_149\n",
            "171 conv2d_145\n",
            "172 conv2d_150\n",
            "173 batch_normalization_145\n",
            "174 batch_normalization_150\n",
            "175 activation_145\n",
            "176 activation_150\n",
            "177 conv2d_146\n",
            "178 conv2d_151\n",
            "179 batch_normalization_146\n",
            "180 batch_normalization_151\n",
            "181 activation_146\n",
            "182 activation_151\n",
            "183 average_pooling2d_14\n",
            "184 conv2d_144\n",
            "185 conv2d_147\n",
            "186 conv2d_152\n",
            "187 conv2d_153\n",
            "188 batch_normalization_144\n",
            "189 batch_normalization_147\n",
            "190 batch_normalization_152\n",
            "191 batch_normalization_153\n",
            "192 activation_144\n",
            "193 activation_147\n",
            "194 activation_152\n",
            "195 activation_153\n",
            "196 mixed6\n",
            "197 conv2d_158\n",
            "198 batch_normalization_158\n",
            "199 activation_158\n",
            "200 conv2d_159\n",
            "201 batch_normalization_159\n",
            "202 activation_159\n",
            "203 conv2d_155\n",
            "204 conv2d_160\n",
            "205 batch_normalization_155\n",
            "206 batch_normalization_160\n",
            "207 activation_155\n",
            "208 activation_160\n",
            "209 conv2d_156\n",
            "210 conv2d_161\n",
            "211 batch_normalization_156\n",
            "212 batch_normalization_161\n",
            "213 activation_156\n",
            "214 activation_161\n",
            "215 average_pooling2d_15\n",
            "216 conv2d_154\n",
            "217 conv2d_157\n",
            "218 conv2d_162\n",
            "219 conv2d_163\n",
            "220 batch_normalization_154\n",
            "221 batch_normalization_157\n",
            "222 batch_normalization_162\n",
            "223 batch_normalization_163\n",
            "224 activation_154\n",
            "225 activation_157\n",
            "226 activation_162\n",
            "227 activation_163\n",
            "228 mixed7\n",
            "229 conv2d_166\n",
            "230 batch_normalization_166\n",
            "231 activation_166\n",
            "232 conv2d_167\n",
            "233 batch_normalization_167\n",
            "234 activation_167\n",
            "235 conv2d_164\n",
            "236 conv2d_168\n",
            "237 batch_normalization_164\n",
            "238 batch_normalization_168\n",
            "239 activation_164\n",
            "240 activation_168\n",
            "241 conv2d_165\n",
            "242 conv2d_169\n",
            "243 batch_normalization_165\n",
            "244 batch_normalization_169\n",
            "245 activation_165\n",
            "246 activation_169\n",
            "247 max_pooling2d_7\n",
            "248 mixed8\n",
            "249 conv2d_174\n",
            "250 batch_normalization_174\n",
            "251 activation_174\n",
            "252 conv2d_171\n",
            "253 conv2d_175\n",
            "254 batch_normalization_171\n",
            "255 batch_normalization_175\n",
            "256 activation_171\n",
            "257 activation_175\n",
            "258 conv2d_172\n",
            "259 conv2d_173\n",
            "260 conv2d_176\n",
            "261 conv2d_177\n",
            "262 average_pooling2d_16\n",
            "263 conv2d_170\n",
            "264 batch_normalization_172\n",
            "265 batch_normalization_173\n",
            "266 batch_normalization_176\n",
            "267 batch_normalization_177\n",
            "268 conv2d_178\n",
            "269 batch_normalization_170\n",
            "270 activation_172\n",
            "271 activation_173\n",
            "272 activation_176\n",
            "273 activation_177\n",
            "274 batch_normalization_178\n",
            "275 activation_170\n",
            "276 mixed9_0\n",
            "277 concatenate_2\n",
            "278 activation_178\n",
            "279 mixed9\n",
            "280 conv2d_183\n",
            "281 batch_normalization_183\n",
            "282 activation_183\n",
            "283 conv2d_180\n",
            "284 conv2d_184\n",
            "285 batch_normalization_180\n",
            "286 batch_normalization_184\n",
            "287 activation_180\n",
            "288 activation_184\n",
            "289 conv2d_181\n",
            "290 conv2d_182\n",
            "291 conv2d_185\n",
            "292 conv2d_186\n",
            "293 average_pooling2d_17\n",
            "294 conv2d_179\n",
            "295 batch_normalization_181\n",
            "296 batch_normalization_182\n",
            "297 batch_normalization_185\n",
            "298 batch_normalization_186\n",
            "299 conv2d_187\n",
            "300 batch_normalization_179\n",
            "301 activation_181\n",
            "302 activation_182\n",
            "303 activation_185\n",
            "304 activation_186\n",
            "305 batch_normalization_187\n",
            "306 activation_179\n",
            "307 mixed9_1\n",
            "308 concatenate_3\n",
            "309 activation_187\n",
            "310 mixed10\n"
          ]
        }
      ]
    },
    {
      "cell_type": "code",
      "source": [
        "for layer in model.layers[:172]:\n",
        "       layer.trainable = False\n",
        "for layer in model.layers[172:]:\n",
        "       layer.trainable = True"
      ],
      "metadata": {
        "id": "84QPtpA9eZAD"
      },
      "execution_count": 40,
      "outputs": []
    },
    {
      "cell_type": "code",
      "source": [
        "# we have to compile the network again\n",
        "model.compile(optimizer=SGD(learning_rate=0.0001, momentum=0.9), metrics=['accuracy'], loss='categorical_crossentropy')"
      ],
      "metadata": {
        "id": "kkn96C74eeHE"
      },
      "execution_count": 41,
      "outputs": []
    },
    {
      "cell_type": "code",
      "source": [
        "#training\n",
        "model.fit_generator(train_generator,steps_per_epoch=200,validation_data=validation_generator,validation_steps=10,epochs=3)\n",
        "print(\"Training is over.\")"
      ],
      "metadata": {
        "colab": {
          "base_uri": "https://localhost:8080/"
        },
        "id": "JkU8Db6Beg9l",
        "outputId": "50992341-d887-44f1-9f17-165ea69f583e"
      },
      "execution_count": 42,
      "outputs": [
        {
          "output_type": "stream",
          "name": "stderr",
          "text": [
            "/usr/local/lib/python3.7/dist-packages/ipykernel_launcher.py:2: UserWarning: `Model.fit_generator` is deprecated and will be removed in a future version. Please use `Model.fit`, which supports generators.\n",
            "  \n"
          ]
        },
        {
          "output_type": "stream",
          "name": "stdout",
          "text": [
            "Epoch 1/3\n",
            " 30/200 [===>..........................] - ETA: 26:10 - loss: 0.5012 - accuracy: 0.8683"
          ]
        },
        {
          "output_type": "stream",
          "name": "stderr",
          "text": [
            "WARNING:tensorflow:Your input ran out of data; interrupting training. Make sure that your dataset or generator can generate at least `steps_per_epoch * epochs` batches (in this case, 600 batches). You may need to use the repeat() function when building your dataset.\n"
          ]
        },
        {
          "output_type": "stream",
          "name": "stdout",
          "text": [
            "\b\b\b\b\b\b\b\b\b\b\b\b\b\b\b\b\b\b\b\b\b\b\b\b\b\b\b\b\b\b\b\b\b\b\b\b\b\b\b\b\b\b\b\b\b\b\b\b\b\b\b\b\b\b\b\b\b\b\b\b\b\b\b\b\b\b\b\b\b\b\b\b\b\b\b\b\b\b\b\b\b\b\b\b\b\b\b\r200/200 [==============================] - 334s 2s/step - loss: 0.5012 - accuracy: 0.8683 - val_loss: 0.1649 - val_accuracy: 0.9700\n",
            "Training is over.\n"
          ]
        }
      ]
    },
    {
      "cell_type": "code",
      "source": [
        "predicts=[]\n",
        "for category_name in ['boys', 'cars', 'dogs']:\n",
        "  for image_name in os.listdir('/home/csaba/Pictures/datasets/test/' + category_name):\n",
        "      pred_vector=np.array([0,0,0])\n",
        "      img_path = '/home/csaba/Pictures/datasets/test/' + category_name + '/' + image_name\n",
        "      img = image.load_img(img_path, target_size=(299, 299))\n",
        "      x = image.img_to_array(img)\n",
        "      x = np.expand_dims(x, axis=0)\n",
        "      x = preprocess_input(x)\n",
        "      preds = model.predict(x)\n",
        "      predicts.append(np.argmax(preds,axis=1))"
      ],
      "metadata": {
        "colab": {
          "base_uri": "https://localhost:8080/"
        },
        "id": "4KD3Dyelenue",
        "outputId": "53d645b0-200b-4cca-f535-a4abbebeb013"
      },
      "execution_count": 43,
      "outputs": [
        {
          "output_type": "stream",
          "name": "stdout",
          "text": [
            "1/1 [==============================] - 2s 2s/step\n",
            "1/1 [==============================] - 0s 279ms/step\n",
            "1/1 [==============================] - 0s 281ms/step\n",
            "1/1 [==============================] - 0s 272ms/step\n",
            "1/1 [==============================] - 0s 271ms/step\n",
            "1/1 [==============================] - 0s 291ms/step\n",
            "1/1 [==============================] - 0s 272ms/step\n",
            "1/1 [==============================] - 0s 274ms/step\n",
            "1/1 [==============================] - 0s 275ms/step\n",
            "1/1 [==============================] - 0s 267ms/step\n",
            "1/1 [==============================] - 0s 271ms/step\n",
            "1/1 [==============================] - 0s 269ms/step\n",
            "1/1 [==============================] - 0s 280ms/step\n",
            "1/1 [==============================] - 0s 284ms/step\n",
            "1/1 [==============================] - 0s 270ms/step\n",
            "1/1 [==============================] - 0s 267ms/step\n",
            "1/1 [==============================] - 0s 287ms/step\n",
            "1/1 [==============================] - 0s 263ms/step\n",
            "1/1 [==============================] - 0s 307ms/step\n",
            "1/1 [==============================] - 0s 279ms/step\n",
            "1/1 [==============================] - 0s 268ms/step\n",
            "1/1 [==============================] - 0s 268ms/step\n",
            "1/1 [==============================] - 0s 278ms/step\n",
            "1/1 [==============================] - 0s 272ms/step\n",
            "1/1 [==============================] - 0s 271ms/step\n",
            "1/1 [==============================] - 0s 288ms/step\n",
            "1/1 [==============================] - 0s 267ms/step\n",
            "1/1 [==============================] - 0s 271ms/step\n",
            "1/1 [==============================] - 0s 280ms/step\n",
            "1/1 [==============================] - 0s 268ms/step\n",
            "1/1 [==============================] - 0s 268ms/step\n",
            "1/1 [==============================] - 0s 278ms/step\n",
            "1/1 [==============================] - 0s 265ms/step\n",
            "1/1 [==============================] - 0s 270ms/step\n",
            "1/1 [==============================] - 0s 285ms/step\n",
            "1/1 [==============================] - 0s 270ms/step\n",
            "1/1 [==============================] - 0s 267ms/step\n",
            "1/1 [==============================] - 0s 269ms/step\n",
            "1/1 [==============================] - 0s 304ms/step\n",
            "1/1 [==============================] - 0s 275ms/step\n",
            "1/1 [==============================] - 0s 276ms/step\n",
            "1/1 [==============================] - 0s 269ms/step\n",
            "1/1 [==============================] - 0s 276ms/step\n",
            "1/1 [==============================] - 0s 270ms/step\n",
            "1/1 [==============================] - 0s 267ms/step\n",
            "1/1 [==============================] - 0s 276ms/step\n",
            "1/1 [==============================] - 0s 270ms/step\n",
            "1/1 [==============================] - 0s 265ms/step\n",
            "1/1 [==============================] - 0s 278ms/step\n",
            "1/1 [==============================] - 0s 265ms/step\n",
            "1/1 [==============================] - 0s 262ms/step\n",
            "1/1 [==============================] - 0s 286ms/step\n",
            "1/1 [==============================] - 0s 269ms/step\n",
            "1/1 [==============================] - 0s 263ms/step\n",
            "1/1 [==============================] - 0s 282ms/step\n",
            "1/1 [==============================] - 0s 269ms/step\n",
            "1/1 [==============================] - 0s 268ms/step\n",
            "1/1 [==============================] - 0s 280ms/step\n",
            "1/1 [==============================] - 0s 265ms/step\n",
            "1/1 [==============================] - 0s 270ms/step\n",
            "1/1 [==============================] - 0s 269ms/step\n",
            "1/1 [==============================] - 0s 266ms/step\n",
            "1/1 [==============================] - 0s 280ms/step\n",
            "1/1 [==============================] - 0s 268ms/step\n",
            "1/1 [==============================] - 0s 266ms/step\n",
            "1/1 [==============================] - 0s 283ms/step\n",
            "1/1 [==============================] - 0s 266ms/step\n",
            "1/1 [==============================] - 0s 267ms/step\n",
            "1/1 [==============================] - 0s 288ms/step\n",
            "1/1 [==============================] - 0s 278ms/step\n",
            "1/1 [==============================] - 0s 271ms/step\n",
            "1/1 [==============================] - 0s 277ms/step\n",
            "1/1 [==============================] - 0s 266ms/step\n",
            "1/1 [==============================] - 0s 277ms/step\n",
            "1/1 [==============================] - 0s 275ms/step\n",
            "1/1 [==============================] - 0s 263ms/step\n",
            "1/1 [==============================] - 0s 276ms/step\n",
            "1/1 [==============================] - 0s 268ms/step\n",
            "1/1 [==============================] - 0s 267ms/step\n",
            "1/1 [==============================] - 0s 299ms/step\n",
            "1/1 [==============================] - 0s 309ms/step\n",
            "1/1 [==============================] - 0s 470ms/step\n",
            "1/1 [==============================] - 1s 516ms/step\n",
            "1/1 [==============================] - 0s 500ms/step\n",
            "1/1 [==============================] - 1s 508ms/step\n",
            "1/1 [==============================] - 1s 500ms/step\n",
            "1/1 [==============================] - 1s 508ms/step\n",
            "1/1 [==============================] - 0s 476ms/step\n",
            "1/1 [==============================] - 0s 484ms/step\n",
            "1/1 [==============================] - 0s 396ms/step\n",
            "1/1 [==============================] - 0s 283ms/step\n",
            "1/1 [==============================] - 0s 265ms/step\n",
            "1/1 [==============================] - 0s 269ms/step\n",
            "1/1 [==============================] - 0s 278ms/step\n",
            "1/1 [==============================] - 0s 263ms/step\n",
            "1/1 [==============================] - 0s 267ms/step\n",
            "1/1 [==============================] - 0s 278ms/step\n",
            "1/1 [==============================] - 0s 267ms/step\n",
            "1/1 [==============================] - 0s 267ms/step\n",
            "1/1 [==============================] - 0s 282ms/step\n",
            "1/1 [==============================] - 0s 272ms/step\n",
            "1/1 [==============================] - 0s 272ms/step\n",
            "1/1 [==============================] - 0s 275ms/step\n",
            "1/1 [==============================] - 0s 271ms/step\n",
            "1/1 [==============================] - 0s 263ms/step\n",
            "1/1 [==============================] - 0s 273ms/step\n",
            "1/1 [==============================] - 0s 268ms/step\n",
            "1/1 [==============================] - 0s 278ms/step\n",
            "1/1 [==============================] - 0s 270ms/step\n",
            "1/1 [==============================] - 0s 265ms/step\n",
            "1/1 [==============================] - 0s 277ms/step\n",
            "1/1 [==============================] - 0s 275ms/step\n",
            "1/1 [==============================] - 0s 271ms/step\n",
            "1/1 [==============================] - 0s 281ms/step\n",
            "1/1 [==============================] - 0s 266ms/step\n",
            "1/1 [==============================] - 0s 276ms/step\n",
            "1/1 [==============================] - 0s 277ms/step\n",
            "1/1 [==============================] - 0s 270ms/step\n",
            "1/1 [==============================] - 0s 267ms/step\n",
            "1/1 [==============================] - 0s 270ms/step\n",
            "1/1 [==============================] - 0s 266ms/step\n",
            "1/1 [==============================] - 0s 264ms/step\n",
            "1/1 [==============================] - 0s 267ms/step\n",
            "1/1 [==============================] - 0s 267ms/step\n",
            "1/1 [==============================] - 0s 278ms/step\n",
            "1/1 [==============================] - 0s 268ms/step\n",
            "1/1 [==============================] - 0s 271ms/step\n",
            "1/1 [==============================] - 0s 282ms/step\n",
            "1/1 [==============================] - 0s 270ms/step\n",
            "1/1 [==============================] - 0s 268ms/step\n",
            "1/1 [==============================] - 0s 285ms/step\n",
            "1/1 [==============================] - 0s 268ms/step\n",
            "1/1 [==============================] - 0s 267ms/step\n",
            "1/1 [==============================] - 0s 277ms/step\n",
            "1/1 [==============================] - 0s 270ms/step\n",
            "1/1 [==============================] - 0s 268ms/step\n",
            "1/1 [==============================] - 0s 267ms/step\n",
            "1/1 [==============================] - 0s 269ms/step\n",
            "1/1 [==============================] - 0s 282ms/step\n",
            "1/1 [==============================] - 0s 274ms/step\n",
            "1/1 [==============================] - 0s 263ms/step\n",
            "1/1 [==============================] - 0s 282ms/step\n",
            "1/1 [==============================] - 0s 269ms/step\n",
            "1/1 [==============================] - 0s 273ms/step\n",
            "1/1 [==============================] - 0s 290ms/step\n",
            "1/1 [==============================] - 0s 274ms/step\n",
            "1/1 [==============================] - 0s 265ms/step\n",
            "1/1 [==============================] - 0s 268ms/step\n",
            "1/1 [==============================] - 0s 268ms/step\n",
            "1/1 [==============================] - 0s 274ms/step\n",
            "1/1 [==============================] - 0s 269ms/step\n",
            "1/1 [==============================] - 0s 263ms/step\n",
            "1/1 [==============================] - 0s 283ms/step\n",
            "1/1 [==============================] - 0s 322ms/step\n",
            "1/1 [==============================] - 0s 303ms/step\n",
            "1/1 [==============================] - 0s 274ms/step\n",
            "1/1 [==============================] - 0s 268ms/step\n",
            "1/1 [==============================] - 0s 286ms/step\n",
            "1/1 [==============================] - 0s 268ms/step\n",
            "1/1 [==============================] - 0s 265ms/step\n",
            "1/1 [==============================] - 0s 272ms/step\n",
            "1/1 [==============================] - 0s 265ms/step\n",
            "1/1 [==============================] - 0s 292ms/step\n",
            "1/1 [==============================] - 0s 277ms/step\n",
            "1/1 [==============================] - 0s 274ms/step\n",
            "1/1 [==============================] - 0s 286ms/step\n",
            "1/1 [==============================] - 0s 269ms/step\n",
            "1/1 [==============================] - 0s 271ms/step\n",
            "1/1 [==============================] - 0s 281ms/step\n",
            "1/1 [==============================] - 0s 266ms/step\n",
            "1/1 [==============================] - 0s 278ms/step\n",
            "1/1 [==============================] - 0s 269ms/step\n",
            "1/1 [==============================] - 0s 273ms/step\n",
            "1/1 [==============================] - 0s 286ms/step\n",
            "1/1 [==============================] - 0s 265ms/step\n",
            "1/1 [==============================] - 0s 268ms/step\n",
            "1/1 [==============================] - 0s 282ms/step\n",
            "1/1 [==============================] - 0s 272ms/step\n",
            "1/1 [==============================] - 0s 265ms/step\n",
            "1/1 [==============================] - 0s 280ms/step\n",
            "1/1 [==============================] - 0s 268ms/step\n",
            "1/1 [==============================] - 0s 275ms/step\n",
            "1/1 [==============================] - 0s 274ms/step\n",
            "1/1 [==============================] - 0s 271ms/step\n",
            "1/1 [==============================] - 0s 272ms/step\n",
            "1/1 [==============================] - 0s 266ms/step\n",
            "1/1 [==============================] - 0s 265ms/step\n",
            "1/1 [==============================] - 0s 286ms/step\n",
            "1/1 [==============================] - 0s 266ms/step\n",
            "1/1 [==============================] - 0s 272ms/step\n",
            "1/1 [==============================] - 0s 280ms/step\n",
            "1/1 [==============================] - 0s 276ms/step\n",
            "1/1 [==============================] - 0s 271ms/step\n",
            "1/1 [==============================] - 0s 280ms/step\n",
            "1/1 [==============================] - 0s 265ms/step\n",
            "1/1 [==============================] - 0s 318ms/step\n",
            "1/1 [==============================] - 0s 267ms/step\n",
            "1/1 [==============================] - 0s 274ms/step\n",
            "1/1 [==============================] - 0s 281ms/step\n",
            "1/1 [==============================] - 0s 279ms/step\n",
            "1/1 [==============================] - 0s 273ms/step\n",
            "1/1 [==============================] - 0s 280ms/step\n",
            "1/1 [==============================] - 0s 273ms/step\n",
            "1/1 [==============================] - 0s 273ms/step\n",
            "1/1 [==============================] - 0s 266ms/step\n",
            "1/1 [==============================] - 0s 272ms/step\n",
            "1/1 [==============================] - 0s 293ms/step\n",
            "1/1 [==============================] - 0s 275ms/step\n",
            "1/1 [==============================] - 0s 275ms/step\n",
            "1/1 [==============================] - 0s 287ms/step\n",
            "1/1 [==============================] - 0s 278ms/step\n",
            "1/1 [==============================] - 0s 268ms/step\n",
            "1/1 [==============================] - 0s 279ms/step\n",
            "1/1 [==============================] - 0s 277ms/step\n",
            "1/1 [==============================] - 0s 266ms/step\n",
            "1/1 [==============================] - 0s 272ms/step\n",
            "1/1 [==============================] - 0s 266ms/step\n",
            "1/1 [==============================] - 0s 267ms/step\n",
            "1/1 [==============================] - 0s 267ms/step\n",
            "1/1 [==============================] - 0s 270ms/step\n",
            "1/1 [==============================] - 0s 284ms/step\n",
            "1/1 [==============================] - 0s 269ms/step\n",
            "1/1 [==============================] - 0s 276ms/step\n",
            "1/1 [==============================] - 0s 284ms/step\n",
            "1/1 [==============================] - 0s 272ms/step\n",
            "1/1 [==============================] - 0s 264ms/step\n",
            "1/1 [==============================] - 0s 285ms/step\n",
            "1/1 [==============================] - 0s 268ms/step\n",
            "1/1 [==============================] - 0s 264ms/step\n",
            "1/1 [==============================] - 0s 280ms/step\n",
            "1/1 [==============================] - 0s 277ms/step\n",
            "1/1 [==============================] - 0s 266ms/step\n",
            "1/1 [==============================] - 0s 274ms/step\n",
            "1/1 [==============================] - 0s 272ms/step\n",
            "1/1 [==============================] - 0s 282ms/step\n",
            "1/1 [==============================] - 0s 270ms/step\n",
            "1/1 [==============================] - 0s 271ms/step\n",
            "1/1 [==============================] - 0s 284ms/step\n",
            "1/1 [==============================] - 0s 270ms/step\n",
            "1/1 [==============================] - 0s 268ms/step\n",
            "1/1 [==============================] - 0s 276ms/step\n",
            "1/1 [==============================] - 0s 263ms/step\n",
            "1/1 [==============================] - 0s 275ms/step\n",
            "1/1 [==============================] - 0s 271ms/step\n",
            "1/1 [==============================] - 0s 279ms/step\n",
            "1/1 [==============================] - 0s 317ms/step\n",
            "1/1 [==============================] - 0s 266ms/step\n",
            "1/1 [==============================] - 0s 285ms/step\n",
            "1/1 [==============================] - 0s 273ms/step\n",
            "1/1 [==============================] - 0s 274ms/step\n",
            "1/1 [==============================] - 0s 290ms/step\n",
            "1/1 [==============================] - 0s 267ms/step\n",
            "1/1 [==============================] - 0s 269ms/step\n",
            "1/1 [==============================] - 0s 270ms/step\n",
            "1/1 [==============================] - 0s 270ms/step\n",
            "1/1 [==============================] - 0s 286ms/step\n",
            "1/1 [==============================] - 0s 270ms/step\n",
            "1/1 [==============================] - 0s 270ms/step\n",
            "1/1 [==============================] - 0s 278ms/step\n",
            "1/1 [==============================] - 0s 273ms/step\n",
            "1/1 [==============================] - 0s 272ms/step\n",
            "1/1 [==============================] - 0s 282ms/step\n",
            "1/1 [==============================] - 0s 268ms/step\n",
            "1/1 [==============================] - 0s 268ms/step\n",
            "1/1 [==============================] - 0s 269ms/step\n",
            "1/1 [==============================] - 0s 269ms/step\n",
            "1/1 [==============================] - 0s 268ms/step\n",
            "1/1 [==============================] - 0s 270ms/step\n",
            "1/1 [==============================] - 0s 269ms/step\n",
            "1/1 [==============================] - 0s 281ms/step\n",
            "1/1 [==============================] - 0s 273ms/step\n",
            "1/1 [==============================] - 0s 267ms/step\n",
            "1/1 [==============================] - 0s 280ms/step\n",
            "1/1 [==============================] - 0s 272ms/step\n",
            "1/1 [==============================] - 0s 273ms/step\n",
            "1/1 [==============================] - 0s 286ms/step\n",
            "1/1 [==============================] - 0s 271ms/step\n",
            "1/1 [==============================] - 0s 265ms/step\n",
            "1/1 [==============================] - 0s 277ms/step\n",
            "1/1 [==============================] - 0s 270ms/step\n",
            "1/1 [==============================] - 0s 268ms/step\n",
            "1/1 [==============================] - 0s 276ms/step\n",
            "1/1 [==============================] - 0s 273ms/step\n",
            "1/1 [==============================] - 0s 268ms/step\n",
            "1/1 [==============================] - 0s 273ms/step\n",
            "1/1 [==============================] - 0s 275ms/step\n",
            "1/1 [==============================] - 0s 288ms/step\n",
            "1/1 [==============================] - 0s 270ms/step\n",
            "1/1 [==============================] - 0s 280ms/step\n",
            "1/1 [==============================] - 0s 283ms/step\n",
            "1/1 [==============================] - 0s 270ms/step\n",
            "1/1 [==============================] - 0s 267ms/step\n",
            "1/1 [==============================] - 0s 277ms/step\n",
            "1/1 [==============================] - 0s 270ms/step\n",
            "1/1 [==============================] - 0s 267ms/step\n",
            "1/1 [==============================] - 0s 269ms/step\n",
            "1/1 [==============================] - 0s 271ms/step\n",
            "1/1 [==============================] - 0s 278ms/step\n",
            "1/1 [==============================] - 0s 268ms/step\n",
            "1/1 [==============================] - 0s 271ms/step\n"
          ]
        }
      ]
    },
    {
      "cell_type": "code",
      "source": [
        "#reshaping predicts\n",
        "predicts=np.asarray(predicts).reshape((300))"
      ],
      "metadata": {
        "id": "FlVgxvuQeo-Z"
      },
      "execution_count": 44,
      "outputs": []
    },
    {
      "cell_type": "code",
      "source": [
        "#creating labels for the categories\n",
        "boy_array=np.zeros(100)\n",
        "car_array=np.ones(100)\n",
        "dog_array=np.ones(100)*2\n",
        "y_test=np.concatenate((boy_array, car_array), axis=0)\n",
        "y_test=np.concatenate((y_test, dog_array), axis=0)"
      ],
      "metadata": {
        "id": "tPtfXskuerJa"
      },
      "execution_count": 45,
      "outputs": []
    },
    {
      "cell_type": "code",
      "source": [
        "#making confusion matrix\n",
        "from sklearn.metrics import confusion_matrix, accuracy_score, precision_score, recall_score, f1_score\n",
        "conf=confusion_matrix(y_test,predicts)\n",
        "\n",
        "#printing the confusion matrix\n",
        "import matplotlib.pyplot as plt\n",
        "import seaborn as sns;\n",
        "axis_labels = ['Boy', 'Car', 'Dog']\n",
        "ax = sns.heatmap(conf, annot=True, fmt='d', cmap=plt.cm.Blues, xticklabels=axis_labels, yticklabels=axis_labels)\n",
        "ax.set(xlabel='Predicted Label',\n",
        "       ylabel='True label');\n",
        "\n",
        "print(\"test accuracy: %g\" %(accuracy_score(y_test, predicts)))\n",
        "print(\"Precision\", precision_score(y_test, predicts, average=\"macro\"))\n",
        "print(\"Recall\", recall_score(y_test, predicts, average=\"macro\"))\n",
        "print(\"f1_score\", f1_score(y_test, predicts, average=\"macro\"))"
      ],
      "metadata": {
        "colab": {
          "base_uri": "https://localhost:8080/",
          "height": 348
        },
        "id": "GWC7R3hWet-m",
        "outputId": "07c53a3f-534e-4d98-d181-fdb2ea50f3a6"
      },
      "execution_count": 46,
      "outputs": [
        {
          "output_type": "stream",
          "name": "stdout",
          "text": [
            "test accuracy: 0.96\n",
            "Precision 0.9602532721434667\n",
            "Recall 0.96\n",
            "f1_score 0.9600125555399694\n"
          ]
        },
        {
          "output_type": "display_data",
          "data": {
            "text/plain": [
              "<Figure size 432x288 with 2 Axes>"
            ],
            "image/png": "[encoded data removed]"
          },
          "metadata": {
            "needs_background": "light"
          }
        }
      ]
    },
    {
      "cell_type": "code",
      "source": [],
      "metadata": {
        "id": "FQuPE6oXinRO"
      },
      "execution_count": null,
      "outputs": []
    }
  ]
}